{
 "cells": [
  {
   "cell_type": "markdown",
   "metadata": {},
   "source": [
    "## Fake news detection\n",
    "\n",
    "### Data preprocessing\n",
    "\n",
    "This is the data preprocessing step. We have found the data from this [source](https://github.com/MenbereHailu/Amharic_Fake_News_Detection_On_Social_Media-_Using_Pretrained-_Language_Model/blob/main/Merged%20_Fakenews_Data.xlsx). In this step what we do is remove special characters and amharic letters with similar phonology but different symbol.\n",
    "\n",
    "Membere Hailu, \"Amhairc fake news detection on social media using pretrained language model\", 2022.\n"
   ]
  },
  {
   "cell_type": "code",
   "execution_count": 1,
   "metadata": {},
   "outputs": [],
   "source": [
    "import os\n",
    "import sys\n",
    "\n",
    "# fix issues with importing modules from directories not inside /notebooks\n",
    "sys.path.append(\"..\")"
   ]
  },
  {
   "cell_type": "code",
   "execution_count": 3,
   "metadata": {},
   "outputs": [
    {
     "ename": "ModuleNotFoundError",
     "evalue": "No module named 'pandas'",
     "output_type": "error",
     "traceback": [
      "\u001b[1;31m---------------------------------------------------------------------------\u001b[0m",
      "\u001b[1;31mModuleNotFoundError\u001b[0m                       Traceback (most recent call last)",
      "Cell \u001b[1;32mIn[3], line 1\u001b[0m\n\u001b[1;32m----> 1\u001b[0m \u001b[38;5;28;01mimport\u001b[39;00m \u001b[38;5;21;01mpandas\u001b[39;00m \u001b[38;5;28;01mas\u001b[39;00m \u001b[38;5;21;01mpd\u001b[39;00m\n\u001b[0;32m      2\u001b[0m \u001b[38;5;28;01mfrom\u001b[39;00m \u001b[38;5;21;01msrc\u001b[39;00m\u001b[38;5;21;01m.\u001b[39;00m\u001b[38;5;21;01mnormalize\u001b[39;00m \u001b[38;5;28;01mimport\u001b[39;00m Normalize\n\u001b[0;32m      4\u001b[0m normalize \u001b[38;5;241m=\u001b[39m Normalize()\n",
      "\u001b[1;31mModuleNotFoundError\u001b[0m: No module named 'pandas'"
     ]
    }
   ],
   "source": [
    "import pandas as pd\n",
    "from src.normalize import Normalize\n",
    "\n",
    "normalize = Normalize()\n",
    "\n",
    "processed_data_path = \"../data/processed\"\n",
    "raw_data_path = \"../data/raw\"\n",
    "unprocessed_dataset_path = raw_data_path + \"/data.xlsx\"\n",
    "\n",
    "unprocessed_df = pd.read_excel(unprocessed_dataset_path)\n",
    "unprocessed_df"
   ]
  },
  {
   "cell_type": "code",
   "execution_count": 3,
   "metadata": {},
   "outputs": [
    {
     "name": "stdout",
     "output_type": "stream",
     "text": [
      "Actual_Post    መንግስት ከልምድ ተመሮ ምንም ጥቅምና አትኩሮት የሌለውን መግለጫ በመግለጫ...\n",
      "Label                                                       Fake\n",
      "Name: 0, dtype: object\n"
     ]
    },
    {
     "data": {
      "text/html": [
       "<div>\n",
       "<style scoped>\n",
       "    .dataframe tbody tr th:only-of-type {\n",
       "        vertical-align: middle;\n",
       "    }\n",
       "\n",
       "    .dataframe tbody tr th {\n",
       "        vertical-align: top;\n",
       "    }\n",
       "\n",
       "    .dataframe thead th {\n",
       "        text-align: right;\n",
       "    }\n",
       "</style>\n",
       "<table border=\"1\" class=\"dataframe\">\n",
       "  <thead>\n",
       "    <tr style=\"text-align: right;\">\n",
       "      <th></th>\n",
       "      <th>Post</th>\n",
       "      <th>Label</th>\n",
       "    </tr>\n",
       "  </thead>\n",
       "  <tbody>\n",
       "    <tr>\n",
       "      <th>0</th>\n",
       "      <td>መንግስት ከልምድ ተመሮ ምንም ጥቅምና አትኩሮት የሌለውን መግለጫ በመግለጫ...</td>\n",
       "      <td>Fake</td>\n",
       "    </tr>\n",
       "    <tr>\n",
       "      <th>1</th>\n",
       "      <td>ወይ ጉድ ስለ ዜግነት በቅጡ ሳይረዱ ዜግነት ሰጪና ከልካይ የፖለቲካ መሪ ...</td>\n",
       "      <td>Fake</td>\n",
       "    </tr>\n",
       "    <tr>\n",
       "      <th>2</th>\n",
       "      <td>አብሮነት በመከባበር ላይ የተመሰረተ መሆን አለበት ኦሮሚያ ውስጥ የምትኖሩ...</td>\n",
       "      <td>Fake</td>\n",
       "    </tr>\n",
       "    <tr>\n",
       "      <th>3</th>\n",
       "      <td>እንኳን አሁን ወያኔም እያለ የህዝቦች ሁሉ ጠላት ነፍጠኛዉ ነው ብዬ ነበር...</td>\n",
       "      <td>Fake</td>\n",
       "    </tr>\n",
       "    <tr>\n",
       "      <th>4</th>\n",
       "      <td>እንደዚህ እንደዚያ የሚያረጉን ሀይሎች እያሉ መንግስት ነን ባዮች ችግሮችን...</td>\n",
       "      <td>Fake</td>\n",
       "    </tr>\n",
       "    <tr>\n",
       "      <th>...</th>\n",
       "      <td>...</td>\n",
       "      <td>...</td>\n",
       "    </tr>\n",
       "    <tr>\n",
       "      <th>8625</th>\n",
       "      <td>በግብፅ ዋና ከተማ ካይሮ በሚገኝ አንድ ቅንጡ ሆቴል አንዲት ወጣት ሴትን ...</td>\n",
       "      <td>Real</td>\n",
       "    </tr>\n",
       "    <tr>\n",
       "      <th>8626</th>\n",
       "      <td>ዌስት ማቲውሰን ይባላሉ እውቅ የአካባቢ ተንከባካቢ ነበሩ በተለይም ከደቦሎ...</td>\n",
       "      <td>Real</td>\n",
       "    </tr>\n",
       "    <tr>\n",
       "      <th>8627</th>\n",
       "      <td>ሰርቫይቫል ኢንተርናሽናል የተባለ ተቋም በ1850ዎቹ ብሪታኒያ ህንድን ስት...</td>\n",
       "      <td>Real</td>\n",
       "    </tr>\n",
       "    <tr>\n",
       "      <th>8628</th>\n",
       "      <td>ፓርቲዎቹ የመጀመሪያውን የምርጫ ክርክር በመገናኛ ብዙሀን በተላለፈ የቀጥታ...</td>\n",
       "      <td>Real</td>\n",
       "    </tr>\n",
       "    <tr>\n",
       "      <th>8629</th>\n",
       "      <td>በፍርድ ሂደቱ የመጀመሪያዎቹ ሶስት ቀናት ጉዳት የደረሰባቸው ሰዎች ምስክር...</td>\n",
       "      <td>Real</td>\n",
       "    </tr>\n",
       "  </tbody>\n",
       "</table>\n",
       "<p>8630 rows × 2 columns</p>\n",
       "</div>"
      ],
      "text/plain": [
       "                                                   Post Label\n",
       "0     መንግስት ከልምድ ተመሮ ምንም ጥቅምና አትኩሮት የሌለውን መግለጫ በመግለጫ...  Fake\n",
       "1     ወይ ጉድ ስለ ዜግነት በቅጡ ሳይረዱ ዜግነት ሰጪና ከልካይ የፖለቲካ መሪ ...  Fake\n",
       "2     አብሮነት በመከባበር ላይ የተመሰረተ መሆን አለበት ኦሮሚያ ውስጥ የምትኖሩ...  Fake\n",
       "3     እንኳን አሁን ወያኔም እያለ የህዝቦች ሁሉ ጠላት ነፍጠኛዉ ነው ብዬ ነበር...  Fake\n",
       "4     እንደዚህ እንደዚያ የሚያረጉን ሀይሎች እያሉ መንግስት ነን ባዮች ችግሮችን...  Fake\n",
       "...                                                 ...   ...\n",
       "8625  በግብፅ ዋና ከተማ ካይሮ በሚገኝ አንድ ቅንጡ ሆቴል አንዲት ወጣት ሴትን ...  Real\n",
       "8626  ዌስት ማቲውሰን ይባላሉ እውቅ የአካባቢ ተንከባካቢ ነበሩ በተለይም ከደቦሎ...  Real\n",
       "8627  ሰርቫይቫል ኢንተርናሽናል የተባለ ተቋም በ1850ዎቹ ብሪታኒያ ህንድን ስት...  Real\n",
       "8628  ፓርቲዎቹ የመጀመሪያውን የምርጫ ክርክር በመገናኛ ብዙሀን በተላለፈ የቀጥታ...  Real\n",
       "8629  በፍርድ ሂደቱ የመጀመሪያዎቹ ሶስት ቀናት ጉዳት የደረሰባቸው ሰዎች ምስክር...  Real\n",
       "\n",
       "[8630 rows x 2 columns]"
      ]
     },
     "execution_count": 3,
     "metadata": {},
     "output_type": "execute_result"
    }
   ],
   "source": [
    "processed_data_dict = {\n",
    "    \"Post\": [],\n",
    "    \"Label\": [],\n",
    "}\n",
    "processed_dataset_path = processed_data_path + \"/processed_data.csv\"\n",
    "i = 1\n",
    "\n",
    "for index, row in unprocessed_df.iterrows():\n",
    "    if i == 1:\n",
    "        print(row)\n",
    "        i += 1\n",
    "    first_column = normalize.normalize_data(text=row.iloc[0])\n",
    "    second_column = row.iloc[1]\n",
    "\n",
    "    processed_data_dict[\"Post\"].append(first_column)\n",
    "    processed_data_dict[\"Label\"].append(second_column)\n",
    "\n",
    "df = pd.DataFrame(processed_data_dict)\n",
    "df.to_csv(processed_dataset_path, index=False)\n",
    "\n",
    "pd.read_csv(processed_dataset_path)"
   ]
  }
 ],
 "metadata": {
  "kernelspec": {
   "display_name": "Python 3",
   "language": "python",
   "name": "python3"
  },
  "language_info": {
   "codemirror_mode": {
    "name": "ipython",
    "version": 3
   },
   "file_extension": ".py",
   "mimetype": "text/x-python",
   "name": "python",
   "nbconvert_exporter": "python",
   "pygments_lexer": "ipython3",
   "version": "3.11.4"
  }
 },
 "nbformat": 4,
 "nbformat_minor": 2
}
