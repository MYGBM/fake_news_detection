{
 "cells": [
  {
   "cell_type": "markdown",
   "metadata": {},
   "source": [
    "## Fake news detection\n",
    "\n",
    "### Data preprocessing\n",
    "\n",
    "This is the data preprocessing step. We have found the data from this [source](https://github.com/MenbereHailu/Amharic_Fake_News_Detection_On_Social_Media-_Using_Pretrained-_Language_Model/blob/main/Merged%20_Fakenews_Data.xlsx). In this step, regex has been used to remove english words and numbers, special characters , emojis, geez letters and normalized Amharic letters wit similar phonology but different symbols. Finally, the labels were one-hot encoded.\n",
    "\n",
    "Membere Hailu, \"Amhairc fake news detection on social media using pretrained language model\", 2022.\n"
   ]
  },
  {
   "cell_type": "code",
   "execution_count": 1,
   "metadata": {},
   "outputs": [],
   "source": [
    "import os\n",
    "import sys\n",
    "\n",
    "# fix issues with importing modules from directories not inside /notebooks\n",
    "sys.path.append(\"..\")"
   ]
  },
  {
   "cell_type": "code",
   "execution_count": 2,
   "metadata": {},
   "outputs": [
    {
     "name": "stdout",
     "output_type": "stream",
     "text": [
      "                                            Actual_Post Label\n",
      "0     መንግስት ከልምድ ተመሮ ምንም ጥቅምና አትኩሮት የሌለውን መግለጫ በመግለጫ...  Fake\n",
      "1     ወይ ጉድ! ስለ ዜግነት በቅጡ ሳይረዱ ዜግነት ሰጪና ከልካይ የፖለቲካ መሪ...  Fake\n",
      "2     አብሮነት በመከባበር ላይ የተመሰረተ መሆን አለበት። ኦሮሚያ ውስጥ የምትኖ...  Fake\n",
      "3     እንኳን አሁን ወያኔም እያለ የህዝቦች ሁሉ ጠላት ነፍጠኛዉ ነው ብዬ ነበር...  Fake\n",
      "4     እንደዚህ እንደዚያ የሚያረጉን \"ኃይሎች\" እያሉ መንግስት ነን ባዮች ችግሮ...  Fake\n",
      "...                                                 ...   ...\n",
      "8625  በግብጽ ዋና ከተማ ካይሮ በሚገኝ አንድ ቅንጡ ሆቴል አንዲት ወጣት ሴትን ...  Real\n",
      "8626  ዌስት ማቲውሰን ይባላሉ። እውቅ የአካባቢ ተንከባካቢ ነበሩ። በተለይም ከደ...  Real\n",
      "8627  ሰርቫይቫል ኢንተርናሽናል የተባለ ተቋም በ1850ዎቹ ብሪታኒያ ሕንድን ስት...  Real\n",
      "8628  ፓርቲዎቹ የመጀመሪያውን የምርጫ ክርክር በመገናኛ ብዙሃን በተላለፈ የቀጥታ...  Real\n",
      "8629  በፍርድ ሂደቱ የመጀመሪያዎቹ ሦስት ቀናት ጉዳት የደረሰባቸው ሰዎች ምስክር...  Real\n",
      "\n",
      "[8630 rows x 2 columns]\n"
     ]
    }
   ],
   "source": [
    "import re\n",
    "import pandas as pd\n",
    "import importlib\n",
    "import src.preprocess\n",
    "importlib.reload(src.preprocess)\n",
    "from src.preprocess import Preprocess\n",
    "preprocess = Preprocess()\n",
    "\n",
    "\n",
    "processed_data_path = \"../data/processed\"\n",
    "raw_data_path = \"../data/raw\"\n",
    "unprocessed_dataset_path = raw_data_path + \"/data.xlsx\"\n",
    "unprocessed_df = pd.read_excel(unprocessed_dataset_path)\n",
    "unprocessed_df\n",
    "print(unprocessed_df)\n"
   ]
  },
  {
   "cell_type": "code",
   "execution_count": 3,
   "metadata": {},
   "outputs": [
    {
     "data": {
      "text/plain": [
       "{'URLs': 1294,\n",
       " 'English words/digits': 135414,\n",
       " 'Amharic Geez numbers': 24,\n",
       " 'Special characters/punctuation': 205193,\n",
       " 'Emojis': 1686,\n",
       " 'Extra spaces': 17345,\n",
       " 'HTML tags': 110,\n",
       " 'Elongated words': 11193,\n",
       " 'Leading/trailing spaces': 150}"
      ]
     },
     "execution_count": 3,
     "metadata": {},
     "output_type": "execute_result"
    }
   ],
   "source": [
    "# data profiling before preprocessing\n",
    "preprocess.data_profile(unprocessed_df,\"Actual_Post\")"
   ]
  },
  {
   "cell_type": "code",
   "execution_count": 4,
   "metadata": {},
   "outputs": [
    {
     "name": "stdout",
     "output_type": "stream",
     "text": [
      "                                                   Post  Label\n",
      "0     መንግስት ከልምድ ተመሮ ምንም ጥቅምና አትኩሮት የሌለውን መግለጫ በመግለጫ...      0\n",
      "1     ወይ ጉድ ስለ ዜግነት በቅጡ ሳይረዱ ዜግነት ሰጪና ከልካይ የፖለቲካ መሪ ...      0\n",
      "2     አብሮነት በመከባበር ላይ የተመሰረተ መሆን አለበት ኦሮሚያ ውስጥ የምትኖሩ...      0\n",
      "3     እንኳን አሁን ወያኔም እያለ የህዝቦች ሁሉ ጠላት ነፍጠኛዉ ነው ብዬ ነበር...      0\n",
      "4     እንደዚህ እንደዚያ የሚያረጉን ሀይሎች እያሉ መንግስት ነን ባዮች ችግሮችን...      0\n",
      "...                                                 ...    ...\n",
      "8625  በግብፅ ዋና ከተማ ካይሮ በሚገኝ አንድ ቅንጡ ሆቴል አንዲት ወጣት ሴትን ...      1\n",
      "8626  ዌስት ማቲውሰን ይባላሉ እውቅ የአካባቢ ተንከባካቢ ነበሩ በተለይም ከደቦሎ...      1\n",
      "8627  ሰርቫይቫል ኢንተርናሽናል የተባለ ተቋም በዎቹ ብሪታኒያ ህንድን ስትወር የ...      1\n",
      "8628  ፓርቲዎቹ የመጀመሪያውን የምርጫ ክርክር በመገናኛ ብዙሀን በተላለፈ የቀጥታ...      1\n",
      "8629  በፍርድ ሂደቱ የመጀመሪያዎቹ ሶስት ቀናት ጉዳት የደረሰባቸው ሰዎች ምስክር...      1\n",
      "\n",
      "[8630 rows x 2 columns]\n"
     ]
    },
    {
     "data": {
      "text/plain": [
       "'../data/processed/processed_data.csv'"
      ]
     },
     "execution_count": 4,
     "metadata": {},
     "output_type": "execute_result"
    }
   ],
   "source": [
    "processed_data_dict = {\n",
    "    \"Post\": [],\n",
    "    \"Label\": [],\n",
    "}\n",
    "processed_dataset_path = processed_data_path + \"/processed_data.csv\"\n",
    "# i = 1\n",
    "\n",
    "for index, row in unprocessed_df.iterrows():\n",
    "    # if i == 1:\n",
    "    #     print(row)\n",
    "    #     i += 1\n",
    "    first_column = preprocess.preprocess_data(text=row.iloc[0])\n",
    "    second_column = 1 if row.iloc[1] == 'Real' else 0\n",
    "\n",
    "    processed_data_dict[\"Post\"].append(first_column)\n",
    "    processed_data_dict[\"Label\"].append(second_column)\n",
    "\n",
    "df = pd.DataFrame(processed_data_dict)\n",
    "print(df)\n",
    "df.to_csv(processed_dataset_path, index=False)\n",
    "pd.read_csv(processed_dataset_path)\n",
    "processed_dataset_path"
   ]
  },
  {
   "cell_type": "code",
   "execution_count": 5,
   "metadata": {},
   "outputs": [
    {
     "data": {
      "text/plain": [
       "{'URLs': 0,\n",
       " 'English words/digits': 0,\n",
       " 'Amharic Geez numbers': 0,\n",
       " 'Special characters/punctuation': 0,\n",
       " 'Emojis': 0,\n",
       " 'Extra spaces': 0,\n",
       " 'HTML tags': 0,\n",
       " 'Elongated words': 0,\n",
       " 'Leading/trailing spaces': 0}"
      ]
     },
     "execution_count": 5,
     "metadata": {},
     "output_type": "execute_result"
    }
   ],
   "source": [
    "#Data profiling after preprocessing ####\n",
    "preprocess.data_profile(df,\"Post\")"
   ]
  },
  {
   "cell_type": "code",
   "execution_count": 6,
   "metadata": {},
   "outputs": [
    {
     "data": {
      "image/png": "[encoded data removed]",
      "text/plain": [
       "<Figure size 640x480 with 1 Axes>"
      ]
     },
     "metadata": {},
     "output_type": "display_data"
    }
   ],
   "source": [
    "import matplotlib.pyplot as plt\n",
    "\n",
    "# Count the occurrences of each label\n",
    "label_counts = df['Label'].value_counts()\n",
    "\n",
    "# Plot the counts\n",
    "label_counts.plot(kind='bar', color=['red', 'green'])\n",
    "plt.title('Distribution of Fake and Real News')\n",
    "plt.xlabel('Label')\n",
    "plt.ylabel('Count')\n",
    "plt.xticks(ticks=[0, 1], labels=['Fake', 'Real'], rotation=0)\n",
    "plt.show()"
   ]
  }
 ],
 "metadata": {
  "kernelspec": {
   "display_name": "Python 3",
   "language": "python",
   "name": "python3"
  },
  "language_info": {
   "codemirror_mode": {
    "name": "ipython",
    "version": 3
   },
   "file_extension": ".py",
   "mimetype": "text/x-python",
   "name": "python",
   "nbconvert_exporter": "python",
   "pygments_lexer": "ipython3",
   "version": "3.11.4"
  }
 },
 "nbformat": 4,
 "nbformat_minor": 2
}
